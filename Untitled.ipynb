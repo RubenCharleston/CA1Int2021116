{
 "cells": [
  {
   "cell_type": "code",
   "execution_count": 19,
   "id": "b75ad824",
   "metadata": {},
   "outputs": [],
   "source": [
    "import pandas as pd\n",
    "import numpy as np\n",
    "import tensorflow as tf\n",
    "import findspark\n",
    "findspark.init()\n",
    "import pyspark\n",
    "from pyspark.sql import SparkSession\n",
    "from pyspark.sql.functions import concat"
   ]
  },
  {
   "cell_type": "code",
   "execution_count": 3,
   "id": "feef834c",
   "metadata": {},
   "outputs": [
    {
     "name": "stderr",
     "output_type": "stream",
     "text": [
      "24/04/08 22:30:38 WARN SparkSession: Using an existing Spark session; only runtime SQL configurations will take effect.\n"
     ]
    }
   ],
   "source": [
    "spark = SparkSession \\\n",
    "    .builder \\\n",
    "    .appName(\"CA2\") \\\n",
    "    .config(\"spark.some.config.option\", \"some-value\") \\\n",
    "    .getOrCreate()"
   ]
  },
  {
   "cell_type": "code",
   "execution_count": 4,
   "id": "814a1438",
   "metadata": {},
   "outputs": [
    {
     "name": "stderr",
     "output_type": "stream",
     "text": [
      "\r",
      "[Stage 0:>                                                          (0 + 1) / 1]\r",
      "\r",
      "                                                                                \r"
     ]
    }
   ],
   "source": [
    "df = spark.read.format(\"csv\").option(\"header\",True).load(\"/CA1/dft_traffic_counts_raw_counts.csv\")"
   ]
  },
  {
   "cell_type": "code",
   "execution_count": 5,
   "id": "38710242",
   "metadata": {},
   "outputs": [
    {
     "name": "stdout",
     "output_type": "stream",
     "text": [
      "root\n",
      " |-- Count_point_id: string (nullable = true)\n",
      " |-- Direction_of_travel: string (nullable = true)\n",
      " |-- Year: string (nullable = true)\n",
      " |-- Count_date: string (nullable = true)\n",
      " |-- hour: string (nullable = true)\n",
      " |-- Region_id: string (nullable = true)\n",
      " |-- Region_name: string (nullable = true)\n",
      " |-- Region_ons_code: string (nullable = true)\n",
      " |-- Local_authority_id: string (nullable = true)\n",
      " |-- Local_authority_name: string (nullable = true)\n",
      " |-- Local_authority_code: string (nullable = true)\n",
      " |-- Road_name: string (nullable = true)\n",
      " |-- Road_category: string (nullable = true)\n",
      " |-- Road_type: string (nullable = true)\n",
      " |-- Start_junction_road_name: string (nullable = true)\n",
      " |-- End_junction_road_name: string (nullable = true)\n",
      " |-- Easting: string (nullable = true)\n",
      " |-- Northing: string (nullable = true)\n",
      " |-- Latitude: string (nullable = true)\n",
      " |-- Longitude: string (nullable = true)\n",
      " |-- Link_length_km: string (nullable = true)\n",
      " |-- Link_length_miles: string (nullable = true)\n",
      " |-- Pedal_cycles: string (nullable = true)\n",
      " |-- Two_wheeled_motor_vehicles: string (nullable = true)\n",
      " |-- Cars_and_taxis: string (nullable = true)\n",
      " |-- Buses_and_coaches: string (nullable = true)\n",
      " |-- LGVs: string (nullable = true)\n",
      " |-- HGVs_2_rigid_axle: string (nullable = true)\n",
      " |-- HGVs_3_rigid_axle: string (nullable = true)\n",
      " |-- HGVs_4_or_more_rigid_axle: string (nullable = true)\n",
      " |-- HGVs_3_or_4_articulated_axle: string (nullable = true)\n",
      " |-- HGVs_5_articulated_axle: string (nullable = true)\n",
      " |-- HGVs_6_articulated_axle: string (nullable = true)\n",
      " |-- All_HGVs: string (nullable = true)\n",
      " |-- All_motor_vehicles: string (nullable = true)\n",
      "\n"
     ]
    }
   ],
   "source": [
    "df.printSchema()"
   ]
  },
  {
   "cell_type": "code",
   "execution_count": 6,
   "id": "887e4f87",
   "metadata": {},
   "outputs": [
    {
     "name": "stderr",
     "output_type": "stream",
     "text": [
      "24/04/08 22:30:51 WARN package: Truncated the string representation of a plan since it was too large. This behavior can be adjusted by setting 'spark.sql.debug.maxToStringFields'.\n"
     ]
    },
    {
     "data": {
      "text/plain": [
       "[Row(Count_point_id='749', Direction_of_travel='E', Year='2014', Count_date='2014-06-25 00:00:00', hour='7', Region_id='3', Region_name='Scotland', Region_ons_code='S92000003', Local_authority_id='39', Local_authority_name='East Ayrshire', Local_authority_code='S12000008', Road_name='A77', Road_category='TA', Road_type='Major', Start_junction_road_name='LA boundary', End_junction_road_name='A76', Easting='243900', Northing='635900', Latitude='55.591636456', Longitude='-4.478605862', Link_length_km='4.60', Link_length_miles='2.86000000000000000', Pedal_cycles='0', Two_wheeled_motor_vehicles='2', Cars_and_taxis='845', Buses_and_coaches='5', LGVs='31', HGVs_2_rigid_axle='15', HGVs_3_rigid_axle='4', HGVs_4_or_more_rigid_axle='4', HGVs_3_or_4_articulated_axle='4', HGVs_5_articulated_axle='13', HGVs_6_articulated_axle='12', All_HGVs='52', All_motor_vehicles='935'),\n",
       " Row(Count_point_id='749', Direction_of_travel='E', Year='2014', Count_date='2014-06-25 00:00:00', hour='8', Region_id='3', Region_name='Scotland', Region_ons_code='S92000003', Local_authority_id='39', Local_authority_name='East Ayrshire', Local_authority_code='S12000008', Road_name='A77', Road_category='TA', Road_type='Major', Start_junction_road_name='LA boundary', End_junction_road_name='A76', Easting='243900', Northing='635900', Latitude='55.591636456', Longitude='-4.478605862', Link_length_km='4.60', Link_length_miles='2.86000000000000000', Pedal_cycles='0', Two_wheeled_motor_vehicles='5', Cars_and_taxis='908', Buses_and_coaches='7', LGVs='103', HGVs_2_rigid_axle='29', HGVs_3_rigid_axle='3', HGVs_4_or_more_rigid_axle='2', HGVs_3_or_4_articulated_axle='7', HGVs_5_articulated_axle='18', HGVs_6_articulated_axle='20', All_HGVs='79', All_motor_vehicles='1102'),\n",
       " Row(Count_point_id='749', Direction_of_travel='E', Year='2014', Count_date='2014-06-25 00:00:00', hour='9', Region_id='3', Region_name='Scotland', Region_ons_code='S92000003', Local_authority_id='39', Local_authority_name='East Ayrshire', Local_authority_code='S12000008', Road_name='A77', Road_category='TA', Road_type='Major', Start_junction_road_name='LA boundary', End_junction_road_name='A76', Easting='243900', Northing='635900', Latitude='55.591636456', Longitude='-4.478605862', Link_length_km='4.60', Link_length_miles='2.86000000000000000', Pedal_cycles='0', Two_wheeled_motor_vehicles='2', Cars_and_taxis='595', Buses_and_coaches='14', LGVs='88', HGVs_2_rigid_axle='21', HGVs_3_rigid_axle='3', HGVs_4_or_more_rigid_axle='5', HGVs_3_or_4_articulated_axle='9', HGVs_5_articulated_axle='17', HGVs_6_articulated_axle='19', All_HGVs='74', All_motor_vehicles='773'),\n",
       " Row(Count_point_id='749', Direction_of_travel='E', Year='2014', Count_date='2014-06-25 00:00:00', hour='10', Region_id='3', Region_name='Scotland', Region_ons_code='S92000003', Local_authority_id='39', Local_authority_name='East Ayrshire', Local_authority_code='S12000008', Road_name='A77', Road_category='TA', Road_type='Major', Start_junction_road_name='LA boundary', End_junction_road_name='A76', Easting='243900', Northing='635900', Latitude='55.591636456', Longitude='-4.478605862', Link_length_km='4.60', Link_length_miles='2.86000000000000000', Pedal_cycles='0', Two_wheeled_motor_vehicles='1', Cars_and_taxis='590', Buses_and_coaches='8', LGVs='90', HGVs_2_rigid_axle='31', HGVs_3_rigid_axle='6', HGVs_4_or_more_rigid_axle='10', HGVs_3_or_4_articulated_axle='7', HGVs_5_articulated_axle='18', HGVs_6_articulated_axle='17', All_HGVs='89', All_motor_vehicles='778'),\n",
       " Row(Count_point_id='749', Direction_of_travel='E', Year='2014', Count_date='2014-06-25 00:00:00', hour='11', Region_id='3', Region_name='Scotland', Region_ons_code='S92000003', Local_authority_id='39', Local_authority_name='East Ayrshire', Local_authority_code='S12000008', Road_name='A77', Road_category='TA', Road_type='Major', Start_junction_road_name='LA boundary', End_junction_road_name='A76', Easting='243900', Northing='635900', Latitude='55.591636456', Longitude='-4.478605862', Link_length_km='4.60', Link_length_miles='2.86000000000000000', Pedal_cycles='0', Two_wheeled_motor_vehicles='2', Cars_and_taxis='695', Buses_and_coaches='18', LGVs='75', HGVs_2_rigid_axle='38', HGVs_3_rigid_axle='2', HGVs_4_or_more_rigid_axle='2', HGVs_3_or_4_articulated_axle='3', HGVs_5_articulated_axle='16', HGVs_6_articulated_axle='24', All_HGVs='85', All_motor_vehicles='875')]"
      ]
     },
     "execution_count": 6,
     "metadata": {},
     "output_type": "execute_result"
    }
   ],
   "source": [
    "df.head(5)"
   ]
  },
  {
   "cell_type": "code",
   "execution_count": 7,
   "id": "da53f962",
   "metadata": {},
   "outputs": [
    {
     "name": "stderr",
     "output_type": "stream",
     "text": [
      "                                                                                \r"
     ]
    },
    {
     "data": {
      "text/plain": [
       "4815432"
      ]
     },
     "execution_count": 7,
     "metadata": {},
     "output_type": "execute_result"
    }
   ],
   "source": [
    "df.count()"
   ]
  },
  {
   "cell_type": "code",
   "execution_count": 8,
   "id": "c0f890a5",
   "metadata": {},
   "outputs": [
    {
     "name": "stderr",
     "output_type": "stream",
     "text": [
      "                                                                                \r"
     ]
    },
    {
     "name": "stdout",
     "output_type": "stream",
     "text": [
      "Count_point_id \t with null values: 0\n"
     ]
    },
    {
     "name": "stderr",
     "output_type": "stream",
     "text": [
      "                                                                                \r"
     ]
    },
    {
     "name": "stdout",
     "output_type": "stream",
     "text": [
      "Direction_of_travel \t with null values: 0\n"
     ]
    },
    {
     "name": "stderr",
     "output_type": "stream",
     "text": [
      "                                                                                \r"
     ]
    },
    {
     "name": "stdout",
     "output_type": "stream",
     "text": [
      "Year \t with null values: 0\n"
     ]
    },
    {
     "name": "stderr",
     "output_type": "stream",
     "text": [
      "                                                                                \r"
     ]
    },
    {
     "name": "stdout",
     "output_type": "stream",
     "text": [
      "Count_date \t with null values: 0\n"
     ]
    },
    {
     "name": "stderr",
     "output_type": "stream",
     "text": [
      "                                                                                \r"
     ]
    },
    {
     "name": "stdout",
     "output_type": "stream",
     "text": [
      "hour \t with null values: 0\n"
     ]
    },
    {
     "name": "stderr",
     "output_type": "stream",
     "text": [
      "                                                                                \r"
     ]
    },
    {
     "name": "stdout",
     "output_type": "stream",
     "text": [
      "Region_id \t with null values: 0\n"
     ]
    },
    {
     "name": "stderr",
     "output_type": "stream",
     "text": [
      "                                                                                \r"
     ]
    },
    {
     "name": "stdout",
     "output_type": "stream",
     "text": [
      "Region_name \t with null values: 0\n"
     ]
    },
    {
     "name": "stderr",
     "output_type": "stream",
     "text": [
      "                                                                                \r"
     ]
    },
    {
     "name": "stdout",
     "output_type": "stream",
     "text": [
      "Region_ons_code \t with null values: 0\n"
     ]
    },
    {
     "name": "stderr",
     "output_type": "stream",
     "text": [
      "                                                                                \r"
     ]
    },
    {
     "name": "stdout",
     "output_type": "stream",
     "text": [
      "Local_authority_id \t with null values: 0\n"
     ]
    },
    {
     "name": "stderr",
     "output_type": "stream",
     "text": [
      "                                                                                \r"
     ]
    },
    {
     "name": "stdout",
     "output_type": "stream",
     "text": [
      "Local_authority_name \t with null values: 0\n"
     ]
    },
    {
     "name": "stderr",
     "output_type": "stream",
     "text": [
      "                                                                                \r"
     ]
    },
    {
     "name": "stdout",
     "output_type": "stream",
     "text": [
      "Local_authority_code \t with null values: 0\n"
     ]
    },
    {
     "name": "stderr",
     "output_type": "stream",
     "text": [
      "                                                                                \r"
     ]
    },
    {
     "name": "stdout",
     "output_type": "stream",
     "text": [
      "Road_name \t with null values: 0\n"
     ]
    },
    {
     "name": "stderr",
     "output_type": "stream",
     "text": [
      "                                                                                \r"
     ]
    },
    {
     "name": "stdout",
     "output_type": "stream",
     "text": [
      "Road_category \t with null values: 0\n"
     ]
    },
    {
     "name": "stderr",
     "output_type": "stream",
     "text": [
      "[Stage 44:===================================================>     (9 + 1) / 10]\r"
     ]
    },
    {
     "name": "stdout",
     "output_type": "stream",
     "text": [
      "Road_type \t with null values: 0\n"
     ]
    },
    {
     "name": "stderr",
     "output_type": "stream",
     "text": [
      "                                                                                \r"
     ]
    },
    {
     "name": "stdout",
     "output_type": "stream",
     "text": [
      "Start_junction_road_name \t with null values: 2634840\n"
     ]
    },
    {
     "name": "stderr",
     "output_type": "stream",
     "text": [
      "                                                                                \r"
     ]
    },
    {
     "name": "stdout",
     "output_type": "stream",
     "text": [
      "End_junction_road_name \t with null values: 2634780\n"
     ]
    },
    {
     "name": "stderr",
     "output_type": "stream",
     "text": [
      "                                                                                \r"
     ]
    },
    {
     "name": "stdout",
     "output_type": "stream",
     "text": [
      "Easting \t with null values: 0\n"
     ]
    },
    {
     "name": "stderr",
     "output_type": "stream",
     "text": [
      "                                                                                \r"
     ]
    },
    {
     "name": "stdout",
     "output_type": "stream",
     "text": [
      "Northing \t with null values: 0\n"
     ]
    },
    {
     "name": "stderr",
     "output_type": "stream",
     "text": [
      "                                                                                \r"
     ]
    },
    {
     "name": "stdout",
     "output_type": "stream",
     "text": [
      "Latitude \t with null values: 0\n"
     ]
    },
    {
     "name": "stderr",
     "output_type": "stream",
     "text": [
      "                                                                                \r"
     ]
    },
    {
     "name": "stdout",
     "output_type": "stream",
     "text": [
      "Longitude \t with null values: 0\n"
     ]
    },
    {
     "name": "stderr",
     "output_type": "stream",
     "text": [
      "                                                                                \r"
     ]
    },
    {
     "name": "stdout",
     "output_type": "stream",
     "text": [
      "Link_length_km \t with null values: 2632752\n"
     ]
    },
    {
     "name": "stderr",
     "output_type": "stream",
     "text": [
      "                                                                                \r"
     ]
    },
    {
     "name": "stdout",
     "output_type": "stream",
     "text": [
      "Link_length_miles \t with null values: 2632752\n"
     ]
    },
    {
     "name": "stderr",
     "output_type": "stream",
     "text": [
      "                                                                                \r"
     ]
    },
    {
     "name": "stdout",
     "output_type": "stream",
     "text": [
      "Pedal_cycles \t with null values: 0\n"
     ]
    },
    {
     "name": "stderr",
     "output_type": "stream",
     "text": [
      "                                                                                \r"
     ]
    },
    {
     "name": "stdout",
     "output_type": "stream",
     "text": [
      "Two_wheeled_motor_vehicles \t with null values: 0\n"
     ]
    },
    {
     "name": "stderr",
     "output_type": "stream",
     "text": [
      "                                                                                \r"
     ]
    },
    {
     "name": "stdout",
     "output_type": "stream",
     "text": [
      "Cars_and_taxis \t with null values: 1\n"
     ]
    },
    {
     "name": "stderr",
     "output_type": "stream",
     "text": [
      "                                                                                \r"
     ]
    },
    {
     "name": "stdout",
     "output_type": "stream",
     "text": [
      "Buses_and_coaches \t with null values: 5\n"
     ]
    },
    {
     "name": "stderr",
     "output_type": "stream",
     "text": [
      "                                                                                \r"
     ]
    },
    {
     "name": "stdout",
     "output_type": "stream",
     "text": [
      "LGVs \t with null values: 0\n"
     ]
    },
    {
     "name": "stderr",
     "output_type": "stream",
     "text": [
      "                                                                                \r"
     ]
    },
    {
     "name": "stdout",
     "output_type": "stream",
     "text": [
      "HGVs_2_rigid_axle \t with null values: 4\n"
     ]
    },
    {
     "name": "stderr",
     "output_type": "stream",
     "text": [
      "                                                                                \r"
     ]
    },
    {
     "name": "stdout",
     "output_type": "stream",
     "text": [
      "HGVs_3_rigid_axle \t with null values: 1\n"
     ]
    },
    {
     "name": "stderr",
     "output_type": "stream",
     "text": [
      "                                                                                \r"
     ]
    },
    {
     "name": "stdout",
     "output_type": "stream",
     "text": [
      "HGVs_4_or_more_rigid_axle \t with null values: 2\n"
     ]
    },
    {
     "name": "stderr",
     "output_type": "stream",
     "text": [
      "                                                                                \r"
     ]
    },
    {
     "name": "stdout",
     "output_type": "stream",
     "text": [
      "HGVs_3_or_4_articulated_axle \t with null values: 1\n"
     ]
    },
    {
     "name": "stderr",
     "output_type": "stream",
     "text": [
      "                                                                                \r"
     ]
    },
    {
     "name": "stdout",
     "output_type": "stream",
     "text": [
      "HGVs_5_articulated_axle \t with null values: 0\n"
     ]
    },
    {
     "name": "stderr",
     "output_type": "stream",
     "text": [
      "                                                                                \r"
     ]
    },
    {
     "name": "stdout",
     "output_type": "stream",
     "text": [
      "HGVs_6_articulated_axle \t with null values: 1\n"
     ]
    },
    {
     "name": "stderr",
     "output_type": "stream",
     "text": [
      "                                                                                \r"
     ]
    },
    {
     "name": "stdout",
     "output_type": "stream",
     "text": [
      "All_HGVs \t with null values: 9\n"
     ]
    },
    {
     "name": "stderr",
     "output_type": "stream",
     "text": [
      "[Stage 107:==================================================>     (9 + 1) / 10]\r"
     ]
    },
    {
     "name": "stdout",
     "output_type": "stream",
     "text": [
      "All_motor_vehicles \t with null values: 15\n"
     ]
    },
    {
     "name": "stderr",
     "output_type": "stream",
     "text": [
      "\r",
      "                                                                                \r"
     ]
    }
   ],
   "source": [
    "for col in df.columns:\n",
    "    print(col,\"\\t\",\"with null values:\",df.filter(df[col].isNull()).count())"
   ]
  },
  {
   "cell_type": "code",
   "execution_count": 9,
   "id": "ed0fe193",
   "metadata": {},
   "outputs": [],
   "source": [
    "#Dropping columns with many null values since they are not relevant\n",
    "cols_drop = [\"Start_junction_road_name\",\"End_junction_road_name\",\"End_junction_road_name\",\"Link_length_km\",\"Link_length_miles\"]\n",
    "df =df.drop(*cols_drop)"
   ]
  },
  {
   "cell_type": "code",
   "execution_count": 10,
   "id": "7491affa",
   "metadata": {},
   "outputs": [],
   "source": [
    "#dropping the rows with null values since they are so few now\n",
    "df = df.na.drop()"
   ]
  },
  {
   "cell_type": "code",
   "execution_count": 11,
   "id": "5eb23dae",
   "metadata": {},
   "outputs": [
    {
     "name": "stderr",
     "output_type": "stream",
     "text": [
      "                                                                                \r"
     ]
    },
    {
     "data": {
      "text/plain": [
       "4815417"
      ]
     },
     "execution_count": 11,
     "metadata": {},
     "output_type": "execute_result"
    }
   ],
   "source": [
    "df.count()"
   ]
  },
  {
   "cell_type": "code",
   "execution_count": 12,
   "id": "eab8a420",
   "metadata": {},
   "outputs": [
    {
     "name": "stdout",
     "output_type": "stream",
     "text": [
      "+--------------+-------------------+----+-------------------+----+---------+-----------+---------------+------------------+--------------------+--------------------+---------+-------------+---------+-------+--------+------------+------------+------------+--------------------------+--------------+-----------------+----+-----------------+-----------------+-------------------------+----------------------------+-----------------------+-----------------------+--------+------------------+\n",
      "|Count_point_id|Direction_of_travel|Year|         Count_date|hour|Region_id|Region_name|Region_ons_code|Local_authority_id|Local_authority_name|Local_authority_code|Road_name|Road_category|Road_type|Easting|Northing|    Latitude|   Longitude|Pedal_cycles|Two_wheeled_motor_vehicles|Cars_and_taxis|Buses_and_coaches|LGVs|HGVs_2_rigid_axle|HGVs_3_rigid_axle|HGVs_4_or_more_rigid_axle|HGVs_3_or_4_articulated_axle|HGVs_5_articulated_axle|HGVs_6_articulated_axle|All_HGVs|All_motor_vehicles|\n",
      "+--------------+-------------------+----+-------------------+----+---------+-----------+---------------+------------------+--------------------+--------------------+---------+-------------+---------+-------+--------+------------+------------+------------+--------------------------+--------------+-----------------+----+-----------------+-----------------+-------------------------+----------------------------+-----------------------+-----------------------+--------+------------------+\n",
      "|           749|                  E|2014|2014-06-25 00:00:00|   7|        3|   Scotland|      S92000003|                39|       East Ayrshire|           S12000008|      A77|           TA|    Major| 243900|  635900|55.591636456|-4.478605862|           0|                         2|           845|                5|  31|               15|                4|                        4|                           4|                     13|                     12|      52|               935|\n",
      "|           749|                  E|2014|2014-06-25 00:00:00|   8|        3|   Scotland|      S92000003|                39|       East Ayrshire|           S12000008|      A77|           TA|    Major| 243900|  635900|55.591636456|-4.478605862|           0|                         5|           908|                7| 103|               29|                3|                        2|                           7|                     18|                     20|      79|              1102|\n",
      "|           749|                  E|2014|2014-06-25 00:00:00|   9|        3|   Scotland|      S92000003|                39|       East Ayrshire|           S12000008|      A77|           TA|    Major| 243900|  635900|55.591636456|-4.478605862|           0|                         2|           595|               14|  88|               21|                3|                        5|                           9|                     17|                     19|      74|               773|\n",
      "|           749|                  E|2014|2014-06-25 00:00:00|  10|        3|   Scotland|      S92000003|                39|       East Ayrshire|           S12000008|      A77|           TA|    Major| 243900|  635900|55.591636456|-4.478605862|           0|                         1|           590|                8|  90|               31|                6|                       10|                           7|                     18|                     17|      89|               778|\n",
      "|           749|                  E|2014|2014-06-25 00:00:00|  11|        3|   Scotland|      S92000003|                39|       East Ayrshire|           S12000008|      A77|           TA|    Major| 243900|  635900|55.591636456|-4.478605862|           0|                         2|           695|               18|  75|               38|                2|                        2|                           3|                     16|                     24|      85|               875|\n",
      "|           749|                  E|2014|2014-06-25 00:00:00|  12|        3|   Scotland|      S92000003|                39|       East Ayrshire|           S12000008|      A77|           TA|    Major| 243900|  635900|55.591636456|-4.478605862|           0|                         2|           607|                7|  90|               16|                5|                        2|                           4|                      9|                     12|      48|               754|\n",
      "|           749|                  W|2014|2014-06-25 00:00:00|  13|        3|   Scotland|      S92000003|                39|       East Ayrshire|           S12000008|      A77|           TA|    Major| 243900|  635900|55.591636456|-4.478605862|           0|                         1|           731|                6|  93|               21|                9|                        3|                           4|                     15|                     13|      65|               896|\n",
      "|           749|                  W|2014|2014-06-25 00:00:00|  14|        3|   Scotland|      S92000003|                39|       East Ayrshire|           S12000008|      A77|           TA|    Major| 243900|  635900|55.591636456|-4.478605862|           0|                         0|           809|               10| 102|               24|                8|                        4|                           3|                     14|                     16|      69|               990|\n",
      "|           749|                  W|2014|2014-06-25 00:00:00|  15|        3|   Scotland|      S92000003|                39|       East Ayrshire|           S12000008|      A77|           TA|    Major| 243900|  635900|55.591636456|-4.478605862|           0|                         6|           755|               12| 134|               23|                5|                        2|                           6|                     12|                     17|      65|               972|\n",
      "|           749|                  W|2014|2014-06-25 00:00:00|  16|        3|   Scotland|      S92000003|                39|       East Ayrshire|           S12000008|      A77|           TA|    Major| 243900|  635900|55.591636456|-4.478605862|           0|                         6|           936|               13| 181|               21|                1|                        1|                           5|                     10|                     10|      48|              1184|\n",
      "|           749|                  W|2014|2014-06-25 00:00:00|  17|        3|   Scotland|      S92000003|                39|       East Ayrshire|           S12000008|      A77|           TA|    Major| 243900|  635900|55.591636456|-4.478605862|           0|                         4|          1117|               17|  93|                6|                2|                        2|                           5|                     13|                     12|      40|              1271|\n",
      "|           749|                  W|2014|2014-06-25 00:00:00|  18|        3|   Scotland|      S92000003|                39|       East Ayrshire|           S12000008|      A77|           TA|    Major| 243900|  635900|55.591636456|-4.478605862|           0|                         5|           860|                7|  61|                1|                3|                        2|                           1|                      9|                      9|      25|               958|\n",
      "|           749|                  W|2014|2014-06-25 00:00:00|   7|        3|   Scotland|      S92000003|                39|       East Ayrshire|           S12000008|      A77|           TA|    Major| 243900|  635900|55.591636456|-4.478605862|           0|                         2|           703|                5| 199|               41|                4|                        7|                           8|                      7|                     11|      78|               987|\n",
      "|           749|                  W|2014|2014-06-25 00:00:00|   8|        3|   Scotland|      S92000003|                39|       East Ayrshire|           S12000008|      A77|           TA|    Major| 243900|  635900|55.591636456|-4.478605862|           0|                         0|           925|               10| 193|               46|                2|                        4|                           8|                     12|                      8|      80|              1208|\n",
      "|           749|                  W|2014|2014-06-25 00:00:00|   9|        3|   Scotland|      S92000003|                39|       East Ayrshire|           S12000008|      A77|           TA|    Major| 243900|  635900|55.591636456|-4.478605862|           0|                         4|           851|               10| 164|               29|                6|                        6|                           4|                     15|                     15|      75|              1104|\n",
      "|           749|                  W|2014|2014-06-25 00:00:00|  10|        3|   Scotland|      S92000003|                39|       East Ayrshire|           S12000008|      A77|           TA|    Major| 243900|  635900|55.591636456|-4.478605862|           0|                         1|           588|               18| 104|               24|                7|                        6|                           5|                     17|                     16|      75|               786|\n",
      "|           749|                  W|2014|2014-06-25 00:00:00|  11|        3|   Scotland|      S92000003|                39|       East Ayrshire|           S12000008|      A77|           TA|    Major| 243900|  635900|55.591636456|-4.478605862|           0|                         3|           578|               11| 105|               25|                6|                        1|                          10|                     18|                     21|      81|               778|\n",
      "|           749|                  W|2014|2014-06-25 00:00:00|  12|        3|   Scotland|      S92000003|                39|       East Ayrshire|           S12000008|      A77|           TA|    Major| 243900|  635900|55.591636456|-4.478605862|           0|                         0|           623|                7|  79|               26|                4|                        1|                           3|                     11|                     14|      59|               768|\n",
      "|           749|                  E|2014|2014-06-25 00:00:00|  13|        3|   Scotland|      S92000003|                39|       East Ayrshire|           S12000008|      A77|           TA|    Major| 243900|  635900|55.591636456|-4.478605862|           0|                         1|           620|                6|  82|               28|                3|                       11|                           7|                     19|                     11|      79|               788|\n",
      "|           749|                  E|2014|2014-06-25 00:00:00|  14|        3|   Scotland|      S92000003|                39|       East Ayrshire|           S12000008|      A77|           TA|    Major| 243900|  635900|55.591636456|-4.478605862|           0|                         2|           655|                9| 111|               27|                9|                        6|                           3|                      6|                     13|      64|               841|\n",
      "+--------------+-------------------+----+-------------------+----+---------+-----------+---------------+------------------+--------------------+--------------------+---------+-------------+---------+-------+--------+------------+------------+------------+--------------------------+--------------+-----------------+----+-----------------+-----------------+-------------------------+----------------------------+-----------------------+-----------------------+--------+------------------+\n",
      "only showing top 20 rows\n",
      "\n"
     ]
    }
   ],
   "source": [
    "df.show()"
   ]
  },
  {
   "cell_type": "code",
   "execution_count": 15,
   "id": "34a2b26c",
   "metadata": {},
   "outputs": [],
   "source": [
    "df2 = df.select(\"Count_point_id\",\"Direction_of_travel\",\"All_motor_vehicles\")"
   ]
  },
  {
   "cell_type": "code",
   "execution_count": 16,
   "id": "4f8cb976",
   "metadata": {},
   "outputs": [
    {
     "name": "stdout",
     "output_type": "stream",
     "text": [
      "+--------------+-------------------+------------------+\n",
      "|Count_point_id|Direction_of_travel|All_motor_vehicles|\n",
      "+--------------+-------------------+------------------+\n",
      "|           749|                  E|               935|\n",
      "|           749|                  E|              1102|\n",
      "|           749|                  E|               773|\n",
      "|           749|                  E|               778|\n",
      "|           749|                  E|               875|\n",
      "|           749|                  E|               754|\n",
      "|           749|                  W|               896|\n",
      "|           749|                  W|               990|\n",
      "|           749|                  W|               972|\n",
      "|           749|                  W|              1184|\n",
      "|           749|                  W|              1271|\n",
      "|           749|                  W|               958|\n",
      "|           749|                  W|               987|\n",
      "|           749|                  W|              1208|\n",
      "|           749|                  W|              1104|\n",
      "|           749|                  W|               786|\n",
      "|           749|                  W|               778|\n",
      "|           749|                  W|               768|\n",
      "|           749|                  E|               788|\n",
      "|           749|                  E|               841|\n",
      "+--------------+-------------------+------------------+\n",
      "only showing top 20 rows\n",
      "\n"
     ]
    }
   ],
   "source": [
    "df2.show()"
   ]
  },
  {
   "cell_type": "code",
   "execution_count": 17,
   "id": "f9e6012c",
   "metadata": {},
   "outputs": [
    {
     "name": "stderr",
     "output_type": "stream",
     "text": [
      "                                                                                \r"
     ]
    },
    {
     "data": {
      "text/plain": [
       "4815417"
      ]
     },
     "execution_count": 17,
     "metadata": {},
     "output_type": "execute_result"
    }
   ],
   "source": [
    "df2.count()"
   ]
  },
  {
   "cell_type": "code",
   "execution_count": 20,
   "id": "66ae4a13",
   "metadata": {},
   "outputs": [],
   "source": [
    "df3 = df2.withColumn(\"id\", concat(df2.Count_point_id,df2.Direction_of_travel))"
   ]
  },
  {
   "cell_type": "code",
   "execution_count": 21,
   "id": "a5d51665",
   "metadata": {},
   "outputs": [
    {
     "name": "stdout",
     "output_type": "stream",
     "text": [
      "+--------------+-------------------+------------------+----+\n",
      "|Count_point_id|Direction_of_travel|All_motor_vehicles|  id|\n",
      "+--------------+-------------------+------------------+----+\n",
      "|           749|                  E|               935|749E|\n",
      "|           749|                  E|              1102|749E|\n",
      "|           749|                  E|               773|749E|\n",
      "|           749|                  E|               778|749E|\n",
      "|           749|                  E|               875|749E|\n",
      "|           749|                  E|               754|749E|\n",
      "|           749|                  W|               896|749W|\n",
      "|           749|                  W|               990|749W|\n",
      "|           749|                  W|               972|749W|\n",
      "|           749|                  W|              1184|749W|\n",
      "|           749|                  W|              1271|749W|\n",
      "|           749|                  W|               958|749W|\n",
      "|           749|                  W|               987|749W|\n",
      "|           749|                  W|              1208|749W|\n",
      "|           749|                  W|              1104|749W|\n",
      "|           749|                  W|               786|749W|\n",
      "|           749|                  W|               778|749W|\n",
      "|           749|                  W|               768|749W|\n",
      "|           749|                  E|               788|749E|\n",
      "|           749|                  E|               841|749E|\n",
      "+--------------+-------------------+------------------+----+\n",
      "only showing top 20 rows\n",
      "\n"
     ]
    }
   ],
   "source": [
    "df3.show()"
   ]
  },
  {
   "cell_type": "code",
   "execution_count": 23,
   "id": "258a0130",
   "metadata": {},
   "outputs": [],
   "source": [
    "df3 = df3.drop(\"Count_point_id\",\"Direction_of_travel\")"
   ]
  },
  {
   "cell_type": "code",
   "execution_count": 24,
   "id": "7d204668",
   "metadata": {},
   "outputs": [
    {
     "name": "stdout",
     "output_type": "stream",
     "text": [
      "+------------------+----+\n",
      "|All_motor_vehicles|  id|\n",
      "+------------------+----+\n",
      "|               935|749E|\n",
      "|              1102|749E|\n",
      "|               773|749E|\n",
      "|               778|749E|\n",
      "|               875|749E|\n",
      "|               754|749E|\n",
      "|               896|749W|\n",
      "|               990|749W|\n",
      "|               972|749W|\n",
      "|              1184|749W|\n",
      "|              1271|749W|\n",
      "|               958|749W|\n",
      "|               987|749W|\n",
      "|              1208|749W|\n",
      "|              1104|749W|\n",
      "|               786|749W|\n",
      "|               778|749W|\n",
      "|               768|749W|\n",
      "|               788|749E|\n",
      "|               841|749E|\n",
      "+------------------+----+\n",
      "only showing top 20 rows\n",
      "\n"
     ]
    }
   ],
   "source": [
    "df3.show()"
   ]
  },
  {
   "cell_type": "code",
   "execution_count": null,
   "id": "d9d3a8d5",
   "metadata": {},
   "outputs": [],
   "source": []
  },
  {
   "cell_type": "code",
   "execution_count": null,
   "id": "4451dd38",
   "metadata": {},
   "outputs": [],
   "source": []
  },
  {
   "cell_type": "code",
   "execution_count": null,
   "id": "931f701f",
   "metadata": {},
   "outputs": [],
   "source": []
  },
  {
   "cell_type": "code",
   "execution_count": null,
   "id": "11d4f3b6",
   "metadata": {},
   "outputs": [],
   "source": []
  },
  {
   "cell_type": "code",
   "execution_count": null,
   "id": "6237193f",
   "metadata": {},
   "outputs": [],
   "source": []
  },
  {
   "cell_type": "code",
   "execution_count": null,
   "id": "b2636fc8",
   "metadata": {},
   "outputs": [],
   "source": [
    "dataset = pd.read_csv(\"dft_traffic_counts_raw_counts.csv\")"
   ]
  },
  {
   "cell_type": "code",
   "execution_count": null,
   "id": "6e649236",
   "metadata": {},
   "outputs": [],
   "source": [
    "dataset.head()"
   ]
  },
  {
   "cell_type": "code",
   "execution_count": null,
   "id": "a78e5834",
   "metadata": {
    "scrolled": true
   },
   "outputs": [],
   "source": [
    "dataset.drop([\"Region_name\",\"Region_ons_code\",\"Local_authority_id\",\"Local_authority_name\"],axis=1)"
   ]
  },
  {
   "cell_type": "code",
   "execution_count": null,
   "id": "7eaff95d",
   "metadata": {},
   "outputs": [],
   "source": [
    "dataset.shape"
   ]
  },
  {
   "cell_type": "code",
   "execution_count": null,
   "id": "6b661615",
   "metadata": {},
   "outputs": [],
   "source": [
    "dataset[\"hour\"].unique()"
   ]
  },
  {
   "cell_type": "code",
   "execution_count": null,
   "id": "55a6e5a2",
   "metadata": {},
   "outputs": [],
   "source": [
    "dataset[\"Region_name\"].unique()"
   ]
  },
  {
   "cell_type": "code",
   "execution_count": null,
   "id": "f74e4abd",
   "metadata": {},
   "outputs": [],
   "source": [
    "dataset[\"Count_point_id\"].unique()"
   ]
  },
  {
   "cell_type": "code",
   "execution_count": null,
   "id": "10d9888a",
   "metadata": {},
   "outputs": [],
   "source": [
    "dataset[\"Year\"].unique()"
   ]
  },
  {
   "cell_type": "code",
   "execution_count": null,
   "id": "4a89f450",
   "metadata": {},
   "outputs": [],
   "source": [
    "dataset[\"Count_date\"].unique()"
   ]
  },
  {
   "cell_type": "code",
   "execution_count": null,
   "id": "23f754fc",
   "metadata": {},
   "outputs": [],
   "source": [
    "dataset[\"Region_id\"].unique()"
   ]
  },
  {
   "cell_type": "code",
   "execution_count": null,
   "id": "2124b0ce",
   "metadata": {},
   "outputs": [],
   "source": [
    "dataset[\"Region_ons_code\"].unique()"
   ]
  },
  {
   "cell_type": "code",
   "execution_count": null,
   "id": "de5d252f",
   "metadata": {},
   "outputs": [],
   "source": [
    "dataset[dataset[\"Count_point_id\"]==18029].shape"
   ]
  },
  {
   "cell_type": "code",
   "execution_count": null,
   "id": "f14d9519",
   "metadata": {},
   "outputs": [],
   "source": [
    "df.count()"
   ]
  },
  {
   "cell_type": "code",
   "execution_count": null,
   "id": "4b3e7ec2",
   "metadata": {},
   "outputs": [],
   "source": []
  }
 ],
 "metadata": {
  "kernelspec": {
   "display_name": "Python 3 (ipykernel)",
   "language": "python",
   "name": "python3"
  },
  "language_info": {
   "codemirror_mode": {
    "name": "ipython",
    "version": 3
   },
   "file_extension": ".py",
   "mimetype": "text/x-python",
   "name": "python",
   "nbconvert_exporter": "python",
   "pygments_lexer": "ipython3",
   "version": "3.10.12"
  }
 },
 "nbformat": 4,
 "nbformat_minor": 5
}
